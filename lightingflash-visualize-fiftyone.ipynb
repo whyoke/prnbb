{
 "cells": [
  {
   "cell_type": "code",
   "execution_count": null,
   "metadata": {},
   "outputs": [],
   "source": [
    "from flash.core.data.utils import download_data\n",
    "from flash.image import ObjectDetectionData, ObjectDetector\n",
    "from flash.image.detection.output import FiftyOneDetectionLabelsOutput\n",
    "from sklearn.model_selection import train_test_split\n",
    "from tqdm.auto import tqdm\n",
    "from PIL import Image\n",
    "from glob import glob\n",
    "\n",
    "import torch\n",
    "import io, base64\n",
    "import numpy as np\n",
    "import flash\n",
    "import json\n",
    "import utils"
   ]
  },
  {
   "cell_type": "code",
   "execution_count": null,
   "metadata": {},
   "outputs": [],
   "source": [
    "print(\"flash version: {}\".format(flash.__version__))\n",
    "print(\"torch version: {}\".format(torch.__version__))"
   ]
  },
  {
   "cell_type": "code",
   "execution_count": null,
   "metadata": {},
   "outputs": [],
   "source": [
    "data_path = \"./monkey-opencv\"\n",
    "train_dir = \"./train\"\n",
    "test_dir = \"./test\""
   ]
  },
  {
   "cell_type": "code",
   "execution_count": null,
   "metadata": {},
   "outputs": [],
   "source": [
    "df = utils.create_df_from_dir(data_path)"
   ]
  },
  {
   "cell_type": "code",
   "execution_count": null,
   "metadata": {},
   "outputs": [],
   "source": [
    "df_train, df_test = train_test_split(df, test_size=0.15, random_state=42)"
   ]
  },
  {
   "cell_type": "code",
   "execution_count": null,
   "metadata": {},
   "outputs": [],
   "source": [
    "utils.create_dataset(df_train, output_path=train_dir)\n",
    "utils.create_dataset(df_test, output_path=test_dir)"
   ]
  },
  {
   "cell_type": "markdown",
   "metadata": {},
   "source": [
    "## Create coco data"
   ]
  },
  {
   "cell_type": "code",
   "execution_count": null,
   "metadata": {},
   "outputs": [],
   "source": [
    "coco_annotation_path = \"coco_monkey_annotation.json\"\n",
    "test_coco_annotation_path = \"test_coco_monkey_annotation.json\""
   ]
  },
  {
   "cell_type": "code",
   "execution_count": null,
   "metadata": {},
   "outputs": [],
   "source": [
    "paths = glob(\"{}/*.json\".format(train_dir))\n",
    "coco_data_dict = utils.create_coco_data_dict(paths)\n",
    "json.dump(coco_data_dict, open(coco_annotation_path, \"w\"), indent=2)"
   ]
  },
  {
   "cell_type": "code",
   "execution_count": null,
   "metadata": {},
   "outputs": [],
   "source": [
    "paths = glob(\"{}/*.json\".format(test_dir))\n",
    "test_coco_data_dict = utils.create_coco_data_dict(paths)\n",
    "json.dump(test_coco_data_dict, open(test_coco_annotation_path, \"w\"), indent=2)"
   ]
  },
  {
   "cell_type": "code",
   "execution_count": null,
   "metadata": {},
   "outputs": [],
   "source": [
    "# Train parameter"
   ]
  },
  {
   "cell_type": "code",
   "execution_count": null,
   "metadata": {},
   "outputs": [],
   "source": [
    "image_size = 256\n",
    "batch_size = 16\n",
    "max_epochs = 20\n",
    "learning_rate = 0.005\n",
    "\n",
    "model_head = \"efficientdet\"\n",
    "model_backbone= \"d0\""
   ]
  },
  {
   "cell_type": "code",
   "execution_count": null,
   "metadata": {},
   "outputs": [],
   "source": [
    "datamodule = ObjectDetectionData.from_coco(\n",
    "    train_folder=train_dir,\n",
    "    train_ann_file=coco_annotation_path,\n",
    "    test_folder=test_dir,\n",
    "    test_ann_file=test_coco_annotation_path,\n",
    "    batch_size=batch_size,\n",
    "    transform_kwargs={\"image_size\": image_size},\n",
    "    val_split=0.1,\n",
    ")"
   ]
  },
  {
   "cell_type": "markdown",
   "metadata": {},
   "source": [
    "## Train"
   ]
  },
  {
   "cell_type": "code",
   "execution_count": null,
   "metadata": {},
   "outputs": [],
   "source": [
    "\"\"\"\n",
    "model = ObjectDetector(\n",
    "    head=\"retinanet\", \n",
    "    backbone=\"resnet18_fpn\", \n",
    "    num_classes=datamodule.num_classes, \n",
    "    image_size=image_size,\n",
    "    output=FiftyOneDetectionLabelsOutput(return_filepath=True),\n",
    "    learning_rate=0.0001,\n",
    "    pretrained=True\n",
    ")\n",
    "\"\"\""
   ]
  },
  {
   "cell_type": "code",
   "execution_count": null,
   "metadata": {},
   "outputs": [],
   "source": [
    "model = ObjectDetector(\n",
    "    head=model_head, \n",
    "    backbone=model_backbone, \n",
    "    num_classes=datamodule.num_classes, \n",
    "    image_size=image_size,\n",
    "    output=FiftyOneDetectionLabelsOutput(return_filepath=True),\n",
    "    learning_rate=learning_rate,\n",
    ")"
   ]
  },
  {
   "cell_type": "code",
   "execution_count": null,
   "metadata": {},
   "outputs": [],
   "source": [
    "trainer = flash.Trainer(max_epochs=max_epochs, gpus=1)\n",
    "trainer.finetune(model, datamodule=datamodule, strategy=\"no_freeze\")"
   ]
  },
  {
   "cell_type": "code",
   "execution_count": null,
   "metadata": {},
   "outputs": [],
   "source": [
    "check_point_path = f\"finetuned_{model_head}_{model_backbone}_{image_size}_{max_epochs}.ckpt\""
   ]
  },
  {
   "cell_type": "code",
   "execution_count": null,
   "metadata": {},
   "outputs": [],
   "source": [
    "trainer.save_checkpoint(check_point_path)"
   ]
  },
  {
   "cell_type": "code",
   "execution_count": null,
   "metadata": {},
   "outputs": [],
   "source": [
    "trainer.test(model, datamodule=datamodule)"
   ]
  },
  {
   "cell_type": "markdown",
   "metadata": {},
   "source": [
    "## Prediction"
   ]
  },
  {
   "cell_type": "code",
   "execution_count": null,
   "metadata": {},
   "outputs": [],
   "source": [
    "from torch.utils.data import DataLoader"
   ]
  },
  {
   "cell_type": "code",
   "execution_count": null,
   "metadata": {},
   "outputs": [],
   "source": [
    "predict_files = glob(f\"{test_dir}/*.jpg\")\n",
    "len(predict_files)"
   ]
  },
  {
   "cell_type": "code",
   "execution_count": null,
   "metadata": {},
   "outputs": [],
   "source": [
    "predict_dataset = ObjectDetectionData.from_files(\n",
    "    predict_files=predict_files,\n",
    "    batch_size=1, \n",
    "    transform_kwargs={\"image_size\": image_size},\n",
    "\n",
    ")"
   ]
  },
  {
   "cell_type": "code",
   "execution_count": null,
   "metadata": {},
   "outputs": [],
   "source": [
    "predictions = trainer.predict(model, datamodule=predict_dataset)"
   ]
  },
  {
   "cell_type": "markdown",
   "metadata": {},
   "source": [
    "## Visualize with fiftyone\n",
    "\n",
    "- https://voxel51.com/docs/fiftyone/getting_started/install.html\n",
    "- install fiftyone (do not forget to restart jupyter notebook)\n",
    "```sh\n",
    "pip install fiftyone\n",
    "```"
   ]
  },
  {
   "cell_type": "code",
   "execution_count": null,
   "metadata": {},
   "outputs": [],
   "source": [
    "from flash.core.integrations.fiftyone import visualize\n",
    "from itertools import chain"
   ]
  },
  {
   "cell_type": "code",
   "execution_count": null,
   "metadata": {},
   "outputs": [],
   "source": [
    "_predictions = list(chain.from_iterable(predictions))"
   ]
  },
  {
   "cell_type": "code",
   "execution_count": null,
   "metadata": {
    "scrolled": false
   },
   "outputs": [],
   "source": [
    "session = visualize(_predictions)"
   ]
  },
  {
   "cell_type": "code",
   "execution_count": null,
   "metadata": {},
   "outputs": [],
   "source": []
  }
 ],
 "metadata": {
  "kernelspec": {
   "display_name": "Python 3",
   "language": "python",
   "name": "python3"
  },
  "language_info": {
   "codemirror_mode": {
    "name": "ipython",
    "version": 3
   },
   "file_extension": ".py",
   "mimetype": "text/x-python",
   "name": "python",
   "nbconvert_exporter": "python",
   "pygments_lexer": "ipython3",
   "version": "3.8.10"
  }
 },
 "nbformat": 4,
 "nbformat_minor": 5
}
